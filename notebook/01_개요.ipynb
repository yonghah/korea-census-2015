{
 "cells": [
  {
   "cell_type": "markdown",
   "metadata": {},
   "source": [
    "# 들어가며 \n",
    "\n",
    "## 목표\n",
    "\n",
    "통계청은 작년 집계구 수준의 센서스 데이터를 발표했습니다. 집계구는 가장 세밀한 통계적 지리 단위로 한국에 약 10만여개가 있습니다. 따라서 하나의 집계구에는 평균적으로 약 500명이 거주합니다. 우리는 이 집계구 수준의 센서스 데이터를 지리적으로 시각화할 것입니다. 여러가지 시각화가 있겠지만, 우리는 dot density map을 만들어볼 것입니다. 대한민국 국민 한 사람이 점 하나로 표현되도록 말이죠. 버지니아 대학교에서 제작한 미국의 [racial dot map](https://demographics.virginia.edu/DotMap/)처럼 말입니다. 그리고 한국에서는 미국의 인종만큼이나 연령이 중요한 팩터라고 생각하기 때문에 연령으로 색을 칠해볼 것입니다. \n",
    "\n",
    "그런데, 이 작업을 하는데 있어 세 가지 조건이 있습니다. 첫째로 유료 프로그램을 사용하지 않을 것입니다. 왜냐하면 많은 사람들은 비싼 유료 프로그램을 구입하기 어렵기 때문입니다. 둘째로, GIS GUI는 최대한 사용하지 않고 대부분의 작업을 script로 처리할 것입니다. 생산성을 높이고 실수를 줄이기 위해서입니다. 셋째로, 가능한한 데이터베이스는 사용하지 않을 것입니다. GIS를 위한 데이터베이스의 셋업은 때때로 고도의 숙련을 요구하는 시간이 걸리는 작업이고, 이것을 이용하는 순간 시각화 작업 자체가 특정 데이터베이스 구현에 의존하게 됩니다. 그리고 이 세가지를 따르게 되면 이 노트북에서 보여주는 작업을 재현하는 것이 굉장히 쉬워집니다.\n",
    "\n",
    "간단히 얘기해서 우리는 이 시각화에서 ArcGIS, QGIS, PostGIS를 사용하지 않고, 최대한 포터블하게, 비싼 프로그램 사용없이, 재현성을 최우선에 놓고 작업할 것입니다.\n",
    "\n",
    "\n",
    "## 작업의 개요\n",
    "\n",
    "1. 집계구에 속성 정보를 결합: \n",
    "여기서는 주된 작업의 도구로 geopandas를 이용할 것입니다. Python을 이용하여 geodata를 다루는데 있어서 geopandas가 현재는 가장 기본이 되는 도구라고 생각합니다. geopandas를 이용해서 속성과 geometry가 결합된 dataframe을 만들고 이것을 범용의 지리정보 포맷인 geojson으로 일단 저장할 것입니다. \n",
    "\n",
    "2. dot을 생성: \n",
    "그리고 각 집계구 내부에 인구 수만큼 random하게 dot을 생성시키고 이 결과를 큰 데이터셋에 적합한 포맷인 hdf5포맷으로 저장할 것입니다. \n",
    "\n",
    "3. datashader를 이용하여 렌더링: \n",
    "위에서 만들어진 dataframe에 대해 datashader를 이용하여 렌더링을 해볼 것입니다.\n",
    "\n",
    "\n",
    "## 준비하기\n",
    "\n",
    "### clone repository \n",
    "\n",
    "가장 먼저 이 repository를 clone합니다.\n",
    "\n",
    "> git clone git@github.com:yonghah/korea-census-2015.git\n",
    "\n",
    "### data 가져오기\n",
    "\n",
    "아래 주소에서 집계구 경계 shapefile과 인구, 가구, 주택 속성 테이블(csv format), 그리고 projection에 관한 정보가 들어있는 압축파일을 다운로드 받습니다.\n",
    "https://umich.box.com/s/o1jps1mpi37y9iolok0jkc3muz8zzh8o\n",
    "\n",
    "이것을 sgis로부터 직접 다운로드 받도록 처리하면 좋겠습니다만, 제가 아이핀이 없는 관계로 테스트하지 못했습니다. 다운로드를 받은 뒤에 repository의 맨 상위 디렉토리에서 압축을 풉니다.\n",
    "\n",
    "> unzip ~/Downloads/sgis-data.zip"
   ]
  },
  {
   "cell_type": "markdown",
   "metadata": {},
   "source": [
    "# 설치할 것들\n",
    "- python, node.js\n",
    "- geopandas, datashader\n",
    "- dot-density\n",
    "\n",
    "bash가 가능한 환경이면 더 편리할 것입니다.\n"
   ]
  },
  {
   "cell_type": "code",
   "execution_count": null,
   "metadata": {
    "collapsed": true
   },
   "outputs": [],
   "source": []
  }
 ],
 "metadata": {
  "anaconda-cloud": {},
  "kernelspec": {
   "display_name": "Python [conda env:yhmain]",
   "language": "python",
   "name": "conda-env-yhmain-py"
  },
  "language_info": {
   "codemirror_mode": {
    "name": "ipython",
    "version": 3
   },
   "file_extension": ".py",
   "mimetype": "text/x-python",
   "name": "python",
   "nbconvert_exporter": "python",
   "pygments_lexer": "ipython3",
   "version": "3.5.2"
  }
 },
 "nbformat": 4,
 "nbformat_minor": 1
}
